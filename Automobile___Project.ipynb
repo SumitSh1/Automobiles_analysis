{
 "cells": [
  {
   "cell_type": "markdown",
   "metadata": {
    "id": "otY6Eww1VZbx"
   },
   "source": [
    "# Project Information\n",
    "\n",
    "It is a minor Analytics project for beginners to understand how to explore data to get some insights using python\n",
    "\n",
    "- Library used - Pandas\n",
    "\n",
    "- Data - https://raw.githubusercontent.com/arora123/Data/master/Automobile_data.csv\n",
    "\n",
    "- Data Description - All column names are self explanatory\n",
    "\n",
    "- Objectives - \n",
    "\n",
    "Import automobile data set using Python Pandas to answer the following questions.\n",
    "\n",
    "A. Is there any missing values in the data? If yes, drop the rows with missing values. \n",
    "\n",
    "B. And answer the following question.\n",
    "1. which are the cars with minimum or maximum price?\n",
    "2. How many cars are there with different body-styles?\n",
    "3. What is the average price of all body types of cars? Arrange them in descending order\n",
    "4. What is the average price of cars by different companies? Arrange them in descending order\n",
    "\n",
    "You can also use data visualization to explore the data.\n",
    "\n",
    "\n",
    "Solution: Colab Notebook uploaded"
   ]
  }
 ],
 "metadata": {
  "colab": {
   "provenance": []
  },
  "kernelspec": {
   "display_name": "Python 3 (ipykernel)",
   "language": "python",
   "name": "python3"
  },
  "language_info": {
   "codemirror_mode": {
    "name": "ipython",
    "version": 3
   },
   "file_extension": ".py",
   "mimetype": "text/x-python",
   "name": "python",
   "nbconvert_exporter": "python",
   "pygments_lexer": "ipython3",
   "version": "3.7.3"
  }
 },
 "nbformat": 4,
 "nbformat_minor": 1
}
